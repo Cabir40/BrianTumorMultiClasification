{
  "cells": [
    {
      "cell_type": "markdown",
      "source": [
        "[![Open In Colab](https://colab.research.google.com/assets/colab-badge.svg)](https://colab.research.google.com/github/Cabir40/BrianTumorMultiClasification/blob/main/BrainTumorDetection_montedrive.ipynb)"
      ],
      "metadata": {
        "id": "kXMnWSDbfxk2"
      }
    },
    {
      "cell_type": "code",
      "execution_count": null,
      "metadata": {
        "id": "YgtaIkGsafB7"
      },
      "outputs": [],
      "source": [
        "import tensorflow as tf\n",
        "tf.__version__"
      ]
    },
    {
      "cell_type": "code",
      "execution_count": 3,
      "metadata": {
        "id": "lpzrgH4aa3C7"
      },
      "outputs": [],
      "source": [
        "import os\n",
        "import numpy as np\n",
        "import pandas as pd\n",
        "import random\n",
        "import matplotlib.pyplot as plt\n",
        "%matplotlib inline\n",
        "import tensorflow.keras\n",
        "from tensorflow.keras.preprocessing.image import load_img\n",
        "from tensorflow.keras.models import *\n"
      ]
    },
    {
      "cell_type": "code",
      "execution_count": null,
      "metadata": {
        "id": "5ItJlsYea4ub"
      },
      "outputs": [],
      "source": [
        "! pip install streamlit -q\n",
        "! pip install npx -q\n",
        "#! pip install pyngrok -q"
      ]
    },
    {
      "cell_type": "code",
      "source": [
        "#from google.colab import drive\n",
        "#drive.mount('/content/drive')"
      ],
      "metadata": {
        "id": "QbwK1dFv3Ol7"
      },
      "execution_count": null,
      "outputs": []
    },
    {
      "cell_type": "code",
      "execution_count": 8,
      "metadata": {
        "colab": {
          "base_uri": "https://localhost:8080/"
        },
        "id": "ZtFNcDcKahJL",
        "outputId": "b24754e0-b675-4fc3-b2bc-0acf5b296c5c"
      },
      "outputs": [
        {
          "output_type": "stream",
          "name": "stdout",
          "text": [
            "Overwriting app.py\n"
          ]
        }
      ],
      "source": [
        "%%writefile app.py\n",
        "\n",
        "import streamlit as st\n",
        "import pandas as pd\n",
        "\n",
        "import numpy as np\n",
        "import matplotlib.pyplot as plt\n",
        "\n",
        "from google_drive_downloader import GoogleDriveDownloader as gdd\n",
        "\n",
        "from PIL import Image\n",
        "import tensorflow as tf\n",
        "import tensorflow.keras\n",
        "from tensorflow.keras.preprocessing.image import load_img\n",
        "from tensorflow.keras.models import load_model\n",
        "\n",
        "import warnings\n",
        "warnings.filterwarnings('ignore')\n",
        "\n",
        "st.sidebar.image('https://www.atilim.edu.tr/uploads/pages/logolar-1517410935/logo_13.jpg')\n",
        "\n",
        "HTML_WRAPPER = \"\"\"<div style=\"overflow-x: auto; border: 1px solid #e6e9ef; border-radius: 0.5rem; padding: 0.5rem; margin-bottom: 0.5rem\">{}</div>\"\"\"\n",
        "\n",
        "st.title(\"Prediction Playground\")\n",
        "\n",
        "\n",
        "url_binary = 'https://drive.google.com/file/d/1s-8d1v1QJk-FYiXvO8l6sCi0aAnP_HFy/view?usp=sharing'\n",
        "url_multi = 'https://drive.google.com/file/d/1m4WsMF81Z057bwqPGi9xqbq8XRmHokt_/view?usp=sharing'\n",
        "\n",
        "\n",
        "def read_drive(url, name):\n",
        "    file_id=url.split('/')[-2]\n",
        "    path = f\"./model_{name}.h5\"\n",
        "    gdd.download_file_from_google_drive(file_id=file_id, dest_path=path)\n",
        "    return load_model(path)\n",
        "\n",
        "#file_id_multi = read_drive(url_multi)\n",
        "#gdd.download_file_from_google_drive(file_id=file_id_multi, dest_path='./model.h5')\n",
        "#modelmulti = load_model('./model.h5')\n",
        "\n",
        "#file_id_binary = read_drive(url_binary)\n",
        "#gdd.download_file_from_google_drive(file_id=file_id_binary, dest_path='./Brain.h5')\n",
        "#modelbinary = load_model('./Brain.h5')\n",
        "\n",
        "\n",
        "PIPELINES = ['Brain Tumor Detection DL',\n",
        "            # 'EKG Apne Detection DL',\n",
        "            # 'Stock Price Prection DL',\n",
        "            # 'NLP Social Media Sentiment Analysis',\n",
        "             'other']\n",
        "\n",
        "BrainTumorList = [\n",
        "                  'MultiClassification',\n",
        "                  'BinaryDetection',\n",
        "                 # 'ner_jsl',\n",
        "                 # 'ner_bionlp'\n",
        "                  ]\n",
        "\n",
        "st.sidebar.header('Choose Prediction Model')\n",
        "st.sidebar.write('')\n",
        "\n",
        "pipe_type = st.sidebar.selectbox('Select Prediction Type',PIPELINES)\n",
        "\n",
        "\n",
        "\n",
        "if pipe_type == 'Brain Tumor Detection DL':\n",
        "  nerModelType = st.sidebar.selectbox(\"Select MedicalNerModel\", (BrainTumorList))\n",
        "  #binarydetection\n",
        "  if nerModelType == 'BinaryDetection':\n",
        "    uploaded_file = st.file_uploader(\"Choose an image...\", type=\"jpg\")\n",
        "    labelsbinary = ['no','yes']\n",
        "    modelbinary = read_drive(url_binary, 'binary')\n",
        "    if uploaded_file is not None:\n",
        "        image = Image.open(uploaded_file)\n",
        "\n",
        "\n",
        "        col1, col2 = st.columns(2)\n",
        "\n",
        "        with col1:\n",
        "            st.header(\"Picture\")\n",
        "            st.image(image, caption='Uploaded Image.',use_column_width=True )\n",
        "            st.write(\"\")\n",
        "\n",
        "        image = image.resize((128,128))\n",
        "        image = np.array(image)\n",
        "        images = image.reshape(1,128,128,3)\n",
        "        predicted = modelbinary.predict(images)[0]\n",
        "        predicted = np.argmax(predicted)\n",
        "        predicted = labelsbinary[predicted]\n",
        "        prob = modelbinary.predict(images)[0].round(5)\n",
        "\n",
        "        with col2:\n",
        "            st.header(\"Prediction\")\n",
        "            st.write('Predicted:', predicted)\n",
        "            df = pd.DataFrame(index = labelsbinary, data= prob, columns=[\"probablity\"])\n",
        "            st.write(df)\n",
        "        \n",
        "        \n",
        "        #predict(image, model, labels)\n",
        "  elif nerModelType == 'MultiClassification':\n",
        "    #multiclassifiaction\n",
        "    uploaded_file = st.file_uploader(\"Choose an image...\", type=\"jpg\")\n",
        "    labelsmulti = ['glioma', 'meningioma', 'notumor', 'pituitary']\n",
        "    # modelmulti = read_drive(url_multi, 'multi')\n",
        "    modelmulti = load_model(\"/content/drive/MyDrive/DataSets/model_best.h5\")\n",
        "    if uploaded_file is not None:\n",
        "        image = Image.open(uploaded_file)\n",
        "\n",
        "\n",
        "        col1, col2 = st.columns(2)\n",
        "\n",
        "        with col1:\n",
        "            st.header(\"Picture\")\n",
        "            st.image(image, caption='Uploaded Image.',use_column_width=True )\n",
        "            st.write(\"\")\n",
        "\n",
        "        image = image.resize((128,128))\n",
        "        image = np.array(image)/255.0\n",
        "        images = image.reshape(1,128,128,3)\n",
        "        predicted = modelmulti.predict(images)[0]\n",
        "        predicted = np.argmax(predicted)\n",
        "        predicted = labelsmulti[predicted]\n",
        "        prob = modelmulti.predict(images)[0].round(5)\n",
        "\n",
        "        with col2:\n",
        "            st.header(\"Prediction\")\n",
        "            st.write('Predicted:', predicted)\n",
        "            df = pd.DataFrame(index = labelsmulti, data= prob, columns=[\"probablity\"])\n",
        "            st.write(df)\n",
        "\n",
        "        \n",
        "  else:\n",
        "    st.sidebar.write('We are working new Pipeline Types')\n",
        "    st.sidebar.write('')\n",
        "    pipeline = None\n",
        "        \n",
        "        #predict(image, model, labels)\n",
        "\n",
        "\n",
        "\n",
        "\n",
        "\n",
        "elif pipe_type == 'EKG Apne Detection DL':\n",
        "\n",
        "  nerModelType = st.sidebar.selectbox(\"Select MedicalNerModel\",(BrainTumorList))\n",
        "  st.sidebar.write('')       \n",
        "\n",
        "elif pipe_type == 'Stock Price Prection DL':\n",
        "  nerModelType = st.sidebar.selectbox(\"Select MedicalNerModel\",(BrainTumorList))\n",
        "  st.sidebar.write('')\n",
        "\n",
        "elif pipe_type == 'NLP Social Media Sentiment Analysis':\n",
        "  nerModelType = st.sidebar.selectbox(\"Select MedicalNerModel\",(BrainTumorList))\n",
        "  st.sidebar.write('')\n",
        "\n",
        "  TEXT = ['A 28-year-old female with a history of gestational diabetes mellitus diagnosed eight years prior to presentation and subsequent type two diabetes mellitus ( T2DM ), one prior episode of HTG-induced pancreatitis three years prior to presentation , associated with an acute hepatitis , and obesity with a body mass index ( BMI ) of 33.5 kg/m2 , presented with a one-week history of polyuria , polydipsia , poor appetite , and vomiting. The patient was prescribed 1 capsule of Advil 10 mg for 5 days and magnesium hydroxide 100mg/1ml suspension PO. He was seen by the endocrinology service and she was discharged on 40 units of insulin glargine at night , 12 units of insulin lispro with meals , and metformin 1000 mg two times a day .',\n",
        "        'The patient was prescribed 1 unit of Advil for 5 days after meals. The patient was also given 1 unit of Metformin daily. He was seen by the endocrinology service and she was discharged on 40 units of insulin glargine at night , 12 units of insulin lispro with meals , and metformin 1000 mg two times a day.',\n",
        "        'I experienced fatigue, muscle cramps, anxiety, agression and sadness after taking Lipitor but no more adverse after passing Zocor.',\n",
        "        'CustomText']\n",
        "\n",
        "  textType = st.selectbox(\"Select TEXT\",(TEXT))\n",
        "\n",
        "  if textType != \"CustomText\":\n",
        "    ner_text = textType\n",
        "    st.write('NER Input Text',textType)\n",
        "  else:\n",
        "    ner_text = st.text_area('NER Input Text', 'Please type here your text.')\n",
        "\n",
        "else:\n",
        "  st.sidebar.write('We are working new Pipeline Types')\n",
        "  st.sidebar.write('')\n",
        "  pipeline = None\n",
        "\n",
        "\n"
      ]
    },
    {
      "cell_type": "code",
      "execution_count": 9,
      "metadata": {
        "colab": {
          "base_uri": "https://localhost:8080/"
        },
        "id": "ELWOlgzFbJcA",
        "outputId": "05e62e53-1efd-4b51-8e67-7a7ed8847930"
      },
      "outputs": [
        {
          "output_type": "stream",
          "name": "stdout",
          "text": [
            "\u001b[34m  Stopping...\u001b[0m\n",
            "^C\n"
          ]
        }
      ],
      "source": [
        "!streamlit run app.py & npx localtunnel --port 8501"
      ]
    },
    {
      "cell_type": "code",
      "source": [],
      "metadata": {
        "id": "fvoqgpjRYIKN"
      },
      "execution_count": null,
      "outputs": []
    }
  ],
  "metadata": {
    "colab": {
      "name": "BrainTumorDetection_montedrive.ipynb",
      "provenance": []
    },
    "kernelspec": {
      "display_name": "Python 3",
      "name": "python3"
    },
    "language_info": {
      "name": "python"
    }
  },
  "nbformat": 4,
  "nbformat_minor": 0
}
