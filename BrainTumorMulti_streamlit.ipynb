{
  "nbformat": 4,
  "nbformat_minor": 0,
  "metadata": {
    "colab": {
      "name": "BrainTumorMulti-streamlit.ipynb",
      "provenance": [],
      "collapsed_sections": [],
      "authorship_tag": "ABX9TyOStw7y146q5hnACxnCltJj",
      "include_colab_link": true
    },
    "kernelspec": {
      "name": "python3",
      "display_name": "Python 3"
    },
    "language_info": {
      "name": "python"
    },
    "accelerator": "GPU"
  },
  "cells": [
    {
      "cell_type": "markdown",
      "metadata": {
        "id": "view-in-github",
        "colab_type": "text"
      },
      "source": [
        "<a href=\"https://colab.research.google.com/github/Cabir40/BrianTumotMultiClasification/blob/main/BrainTumorMulti_streamlit.ipynb\" target=\"_parent\"><img src=\"https://colab.research.google.com/assets/colab-badge.svg\" alt=\"Open In Colab\"/></a>"
      ]
    },
    {
      "cell_type": "code",
      "source": [
        "import tensorflow as tf\n",
        "tf.__version__"
      ],
      "metadata": {
        "colab": {
          "base_uri": "https://localhost:8080/",
          "height": 35
        },
        "id": "hDfQ50VsFzaq",
        "outputId": "b276f484-3c88-4166-87e8-885c2dbc2ffc"
      },
      "execution_count": null,
      "outputs": [
        {
          "output_type": "execute_result",
          "data": {
            "application/vnd.google.colaboratory.intrinsic+json": {
              "type": "string"
            },
            "text/plain": [
              "'2.7.0'"
            ]
          },
          "metadata": {},
          "execution_count": 9
        }
      ]
    },
    {
      "cell_type": "code",
      "source": [
        "pwd"
      ],
      "metadata": {
        "colab": {
          "base_uri": "https://localhost:8080/",
          "height": 35
        },
        "id": "zu3YUzZ3aICu",
        "outputId": "8b511d2b-0341-4f76-9690-4798c1ed5042"
      },
      "execution_count": null,
      "outputs": [
        {
          "output_type": "execute_result",
          "data": {
            "application/vnd.google.colaboratory.intrinsic+json": {
              "type": "string"
            },
            "text/plain": [
              "'/content'"
            ]
          },
          "metadata": {},
          "execution_count": 10
        }
      ]
    },
    {
      "cell_type": "code",
      "source": [
        "import os\n",
        "import numpy as np\n",
        "import pandas as pd\n",
        "import random\n",
        "import matplotlib.pyplot as plt\n",
        "%matplotlib inline\n",
        "import tensorflow.keras\n",
        "from tensorflow.keras.preprocessing.image import load_img\n",
        "from tensorflow.keras.models import *\n"
      ],
      "metadata": {
        "id": "UkGoBIc3NMwj"
      },
      "execution_count": null,
      "outputs": []
    },
    {
      "cell_type": "code",
      "source": [
        "! pip install streamlit -q\n",
        "! pip install npx -q\n",
        "! pip install pyngrok -q"
      ],
      "metadata": {
        "id": "zmXB92uzaM3I",
        "colab": {
          "base_uri": "https://localhost:8080/"
        },
        "outputId": "99d60603-1e80-4373-f3c3-f4b536a9f0d7"
      },
      "execution_count": null,
      "outputs": [
        {
          "output_type": "stream",
          "name": "stdout",
          "text": [
            "\u001b[?25h  Building wheel for pyngrok (setup.py) ... \u001b[?25l\u001b[?25hdone\n"
          ]
        }
      ]
    },
    {
      "cell_type": "markdown",
      "source": [
        "# streamlit"
      ],
      "metadata": {
        "id": "-QkkUcgd_gXO"
      }
    },
    {
      "cell_type": "code",
      "source": [
        "%%writefile app.py\n",
        "\n",
        "import streamlit as st\n",
        "import pandas as pd\n",
        "\n",
        "import numpy as np\n",
        "import matplotlib.pyplot as plt\n",
        "\n",
        "from google_drive_downloader import GoogleDriveDownloader as gdd\n",
        "\n",
        "from PIL import Image\n",
        "import tensorflow as tf\n",
        "import tensorflow.keras\n",
        "from tensorflow.keras.preprocessing.image import load_img\n",
        "from tensorflow.keras.models import load_model\n",
        "\n",
        "import warnings\n",
        "warnings.filterwarnings('ignore')\n",
        "\n",
        "st.sidebar.image('https://eski.ahievran.edu.tr/images/haberler/basin/logomuz/ahievran_logo_210518.png', width=256)\n",
        "\n",
        "HTML_WRAPPER = \"\"\"<div style=\"overflow-x: auto; border: 1px solid #e6e9ef; border-radius: 0.5rem; padding: 0.5rem; margin-bottom: 0.5rem\">{}</div>\"\"\"\n",
        "\n",
        "st.title(\"Ahi Hub Prediction Playground\")\n",
        "\n",
        "\n",
        "url = 'https://drive.google.com/file/d/1m4WsMF81Z057bwqPGi9xqbq8XRmHokt_/view?usp=sharing'\n",
        "\n",
        "def read_drive(url):\n",
        "    file_id=url.split('/')[-2]\n",
        "    return file_id\n",
        "\n",
        "file_id =read_drive(url)\n",
        "\n",
        "gdd.download_file_from_google_drive(file_id=file_id, dest_path='./model.h5')\n",
        "\n",
        "model = load_model('./model.h5')\n",
        "labels = ['glioma', 'meningioma', 'notumor', 'pituitary']\n",
        "\n",
        "\n",
        "PIPELINES = ['Brain Tumor Detection DL',\n",
        "             'EKG Apne Detection DL',\n",
        "             'Stock Price Prection DL',\n",
        "             'NLP Social Media Sentiment Analysis',\n",
        "             'other']\n",
        "\n",
        "BrainTumorList = ['BinaryDetection',\n",
        "                  'MultiClassification',\n",
        "                  'ner_jsl',\n",
        "                  'ner_bionlp']\n",
        "\n",
        "st.sidebar.header('Choose Prediction Model')\n",
        "st.sidebar.write('')\n",
        "\n",
        "pipe_type = st.sidebar.selectbox('Select Prediction Type',PIPELINES)\n",
        "\n",
        "\n",
        "\n",
        "if pipe_type == 'Brain Tumor Detection DL':\n",
        "  nerModelType = st.sidebar.selectbox(\"Select MedicalNerModel\", (BrainTumorList))\n",
        "  \n",
        "  uploaded_file = st.file_uploader(\"Choose an image...\", type=\"jpg\")\n",
        "\n",
        "  if uploaded_file is not None:\n",
        "      image = Image.open(uploaded_file)\n",
        "\n",
        "\n",
        "      col1, col2 = st.columns(2)\n",
        "\n",
        "      with col1:\n",
        "          st.header(\"Picture\")\n",
        "          st.image(image, caption='Uploaded Image.',use_column_width=True )\n",
        "          st.write(\"\")\n",
        "\n",
        "      image = image.resize((128,128))\n",
        "      image = np.array(image)/255.0\n",
        "      images = image.reshape(1,128,128,3)\n",
        "      predicted = model.predict(images)[0]\n",
        "      predicted = np.argmax(predicted)\n",
        "      predicted = labels[predicted]\n",
        "      prob = model.predict(images)[0].round(5)\n",
        "\n",
        "      with col2:\n",
        "          st.header(\"Prediction\")\n",
        "          st.write('Predicted:', predicted)\n",
        "          df = pd.DataFrame(index = labels, data= prob, columns=[\"probablity\"])\n",
        "          st.write(df)\n",
        "      \n",
        "      \n",
        "      #predict(image, model, labels)\n",
        "\n",
        "\n",
        "elif pipe_type == 'EKG Apne Detection DL':\n",
        "\n",
        "  nerModelType = st.sidebar.selectbox(\"Select MedicalNerModel\",(BrainTumorList))\n",
        "  st.sidebar.write('')       \n",
        "\n",
        "elif pipe_type == 'Stock Price Prection DL':\n",
        "  nerModelType = st.sidebar.selectbox(\"Select MedicalNerModel\",(BrainTumorList))\n",
        "  st.sidebar.write('')\n",
        "\n",
        "elif pipe_type == 'NLP Social Media Sentiment Analysis':\n",
        "  nerModelType = st.sidebar.selectbox(\"Select MedicalNerModel\",(BrainTumorList))\n",
        "  st.sidebar.write('')\n",
        "\n",
        "  TEXT = ['A 28-year-old female with a history of gestational diabetes mellitus diagnosed eight years prior to presentation and subsequent type two diabetes mellitus ( T2DM ), one prior episode of HTG-induced pancreatitis three years prior to presentation , associated with an acute hepatitis , and obesity with a body mass index ( BMI ) of 33.5 kg/m2 , presented with a one-week history of polyuria , polydipsia , poor appetite , and vomiting. The patient was prescribed 1 capsule of Advil 10 mg for 5 days and magnesium hydroxide 100mg/1ml suspension PO. He was seen by the endocrinology service and she was discharged on 40 units of insulin glargine at night , 12 units of insulin lispro with meals , and metformin 1000 mg two times a day .',\n",
        "        'The patient was prescribed 1 unit of Advil for 5 days after meals. The patient was also given 1 unit of Metformin daily. He was seen by the endocrinology service and she was discharged on 40 units of insulin glargine at night , 12 units of insulin lispro with meals , and metformin 1000 mg two times a day.',\n",
        "        'I experienced fatigue, muscle cramps, anxiety, agression and sadness after taking Lipitor but no more adverse after passing Zocor.',\n",
        "        'CustomText']\n",
        "\n",
        "  textType = st.selectbox(\"Select TEXT\",(TEXT))\n",
        "\n",
        "  if textType != \"CustomText\":\n",
        "    ner_text = textType\n",
        "    st.write('NER Input Text',textType)\n",
        "  else:\n",
        "    ner_text = st.text_area('NER Input Text', 'Please type here your text.')\n",
        "\n",
        "else:\n",
        "  st.sidebar.write('We are working new Pipeline Types')\n",
        "  st.sidebar.write('')\n",
        "  pipeline = None\n"
      ],
      "metadata": {
        "colab": {
          "base_uri": "https://localhost:8080/"
        },
        "id": "FkpSuDjQd-Qo",
        "outputId": "afaeb040-7472-4043-db5a-c1783a4b336e"
      },
      "execution_count": null,
      "outputs": [
        {
          "output_type": "stream",
          "name": "stdout",
          "text": [
            "Overwriting app.py\n"
          ]
        }
      ]
    },
    {
      "cell_type": "code",
      "source": [
        "!streamlit run app.py & npx localtunnel --port 8501"
      ],
      "metadata": {
        "colab": {
          "base_uri": "https://localhost:8080/"
        },
        "id": "ILGdhILneDxK",
        "outputId": "2f6323c7-a493-4a95-99d3-046f7e66327a"
      },
      "execution_count": null,
      "outputs": [
        {
          "output_type": "stream",
          "name": "stdout",
          "text": [
            "\u001b[K\u001b[?25hnpx: installed 22 in 2.712s\n",
            "your url is: https://curvy-kangaroo-53.loca.lt\n",
            "\u001b[0m\n",
            "\u001b[34m\u001b[1m  You can now view your Streamlit app in your browser.\u001b[0m\n",
            "\u001b[0m\n",
            "\u001b[34m  Network URL: \u001b[0m\u001b[1mhttp://172.28.0.2:8501\u001b[0m\n",
            "\u001b[34m  External URL: \u001b[0m\u001b[1mhttp://35.229.153.222:8501\u001b[0m\n",
            "\u001b[0m\n",
            "2021-12-11 23:31:52.457992: E tensorflow/stream_executor/cuda/cuda_driver.cc:271] failed call to cuInit: CUDA_ERROR_NO_DEVICE: no CUDA-capable device is detected\n",
            "\u001b[34m  Stopping...\u001b[0m\n",
            "^C\n"
          ]
        }
      ]
    },
    {
      "cell_type": "code",
      "source": [
        "!streamlit run app.py&>/dev/null&\n",
        "\n",
        "import time\n",
        "\n",
        "time.sleep(3)\n",
        "\n",
        "from pyngrok import ngrok\n",
        "\n",
        "public_url = ngrok.connect(addr='8501')\n",
        "\n",
        "print (public_url)"
      ],
      "metadata": {
        "id": "-VOwHg5AeD0C"
      },
      "execution_count": null,
      "outputs": []
    },
    {
      "cell_type": "code",
      "source": [
        "!killall ngrok"
      ],
      "metadata": {
        "id": "hTW1SPSteD2R"
      },
      "execution_count": null,
      "outputs": []
    }
  ]
}